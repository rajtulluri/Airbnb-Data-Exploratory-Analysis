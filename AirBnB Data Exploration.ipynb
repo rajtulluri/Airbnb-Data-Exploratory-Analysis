{
 "cells": [
  {
   "cell_type": "markdown",
   "metadata": {},
   "source": [
    "<h1><center> Analyzing Airbnb listings</center></h1>\n",
    "<h3> <center>Finding the busiest hosts and hotspot locations on Airbnb</center></h3>\n",
    "The aim of this project is to exlpore the Airbnb data to analyze and answer the following questions - \n",
    "\n",
    "       Which hosts are the busiest and why?\n",
    "       What areas have more traffic than others and why is that the case?\n",
    "       Are there any relationships between prices and number of reviews for a given listing?\n",
    "       \n",
    "Airbnb is an online market place for arranging or offering primarily home stays, lodging or tourism experiences. People can become hosts and list their property(s) on Airbnb. Since 2008, guests and hosts have used Airbnb to expand on traveling possibilities and present more unique, personalized way of experiencing the world. This dataset describes the listing activity and metrics in NYC, NY for 2019.\n",
    "       \n",
    "The dataset can be found at this <a href=\"https://www.kaggle.com/dgomonov/new-york-city-airbnb-open-data\">Link</a>\n",
    "<br>\n",
    "Descirbing a few columns :-\n",
    "\n",
    "       name - name of the listing\n",
    "       calculated_host_listings_count - amount of listings per host\n",
    "       availability_365 - Number of days when listing is available for booking\n",
    "       neighbourhood_group - Location\n",
    "       last_review - date of last review\n",
    "       reviews_per_month - number of reviews per month on average\n",
    "       \n",
    "The data for each listing seems limited. The columns individually are inconclusive to answer the questions directly. Hence Proxies have to be assumed in order to fulfill the purpose."
   ]
  },
  {
   "cell_type": "code",
   "execution_count": 62,
   "metadata": {},
   "outputs": [],
   "source": [
    "import pandas as pd\n",
    "import numpy as np\n",
    "import matplotlib.pyplot as plt\n",
    "import seaborn as sns\n",
    "import warnings\n",
    "warnings.filterwarnings('ignore')"
   ]
  },
  {
   "cell_type": "markdown",
   "metadata": {},
   "source": [
    "Importing the dataset"
   ]
  },
  {
   "cell_type": "code",
   "execution_count": 2,
   "metadata": {},
   "outputs": [
    {
     "data": {
      "text/html": [
       "<div>\n",
       "<style scoped>\n",
       "    .dataframe tbody tr th:only-of-type {\n",
       "        vertical-align: middle;\n",
       "    }\n",
       "\n",
       "    .dataframe tbody tr th {\n",
       "        vertical-align: top;\n",
       "    }\n",
       "\n",
       "    .dataframe thead th {\n",
       "        text-align: right;\n",
       "    }\n",
       "</style>\n",
       "<table border=\"1\" class=\"dataframe\">\n",
       "  <thead>\n",
       "    <tr style=\"text-align: right;\">\n",
       "      <th></th>\n",
       "      <th>id</th>\n",
       "      <th>name</th>\n",
       "      <th>host_id</th>\n",
       "      <th>host_name</th>\n",
       "      <th>neighbourhood_group</th>\n",
       "      <th>neighbourhood</th>\n",
       "      <th>latitude</th>\n",
       "      <th>longitude</th>\n",
       "      <th>room_type</th>\n",
       "      <th>price</th>\n",
       "      <th>minimum_nights</th>\n",
       "      <th>number_of_reviews</th>\n",
       "      <th>last_review</th>\n",
       "      <th>reviews_per_month</th>\n",
       "      <th>calculated_host_listings_count</th>\n",
       "      <th>availability_365</th>\n",
       "    </tr>\n",
       "  </thead>\n",
       "  <tbody>\n",
       "    <tr>\n",
       "      <th>0</th>\n",
       "      <td>2539</td>\n",
       "      <td>Clean &amp; quiet apt home by the park</td>\n",
       "      <td>2787</td>\n",
       "      <td>John</td>\n",
       "      <td>Brooklyn</td>\n",
       "      <td>Kensington</td>\n",
       "      <td>40.64749</td>\n",
       "      <td>-73.97237</td>\n",
       "      <td>Private room</td>\n",
       "      <td>149</td>\n",
       "      <td>1</td>\n",
       "      <td>9</td>\n",
       "      <td>2018-10-19</td>\n",
       "      <td>0.21</td>\n",
       "      <td>6</td>\n",
       "      <td>365</td>\n",
       "    </tr>\n",
       "    <tr>\n",
       "      <th>1</th>\n",
       "      <td>2595</td>\n",
       "      <td>Skylit Midtown Castle</td>\n",
       "      <td>2845</td>\n",
       "      <td>Jennifer</td>\n",
       "      <td>Manhattan</td>\n",
       "      <td>Midtown</td>\n",
       "      <td>40.75362</td>\n",
       "      <td>-73.98377</td>\n",
       "      <td>Entire home/apt</td>\n",
       "      <td>225</td>\n",
       "      <td>1</td>\n",
       "      <td>45</td>\n",
       "      <td>2019-05-21</td>\n",
       "      <td>0.38</td>\n",
       "      <td>2</td>\n",
       "      <td>355</td>\n",
       "    </tr>\n",
       "    <tr>\n",
       "      <th>2</th>\n",
       "      <td>3647</td>\n",
       "      <td>THE VILLAGE OF HARLEM....NEW YORK !</td>\n",
       "      <td>4632</td>\n",
       "      <td>Elisabeth</td>\n",
       "      <td>Manhattan</td>\n",
       "      <td>Harlem</td>\n",
       "      <td>40.80902</td>\n",
       "      <td>-73.94190</td>\n",
       "      <td>Private room</td>\n",
       "      <td>150</td>\n",
       "      <td>3</td>\n",
       "      <td>0</td>\n",
       "      <td>NaN</td>\n",
       "      <td>NaN</td>\n",
       "      <td>1</td>\n",
       "      <td>365</td>\n",
       "    </tr>\n",
       "    <tr>\n",
       "      <th>3</th>\n",
       "      <td>3831</td>\n",
       "      <td>Cozy Entire Floor of Brownstone</td>\n",
       "      <td>4869</td>\n",
       "      <td>LisaRoxanne</td>\n",
       "      <td>Brooklyn</td>\n",
       "      <td>Clinton Hill</td>\n",
       "      <td>40.68514</td>\n",
       "      <td>-73.95976</td>\n",
       "      <td>Entire home/apt</td>\n",
       "      <td>89</td>\n",
       "      <td>1</td>\n",
       "      <td>270</td>\n",
       "      <td>2019-07-05</td>\n",
       "      <td>4.64</td>\n",
       "      <td>1</td>\n",
       "      <td>194</td>\n",
       "    </tr>\n",
       "    <tr>\n",
       "      <th>4</th>\n",
       "      <td>5022</td>\n",
       "      <td>Entire Apt: Spacious Studio/Loft by central park</td>\n",
       "      <td>7192</td>\n",
       "      <td>Laura</td>\n",
       "      <td>Manhattan</td>\n",
       "      <td>East Harlem</td>\n",
       "      <td>40.79851</td>\n",
       "      <td>-73.94399</td>\n",
       "      <td>Entire home/apt</td>\n",
       "      <td>80</td>\n",
       "      <td>10</td>\n",
       "      <td>9</td>\n",
       "      <td>2018-11-19</td>\n",
       "      <td>0.10</td>\n",
       "      <td>1</td>\n",
       "      <td>0</td>\n",
       "    </tr>\n",
       "  </tbody>\n",
       "</table>\n",
       "</div>"
      ],
      "text/plain": [
       "     id                                              name  host_id  \\\n",
       "0  2539                Clean & quiet apt home by the park     2787   \n",
       "1  2595                             Skylit Midtown Castle     2845   \n",
       "2  3647               THE VILLAGE OF HARLEM....NEW YORK !     4632   \n",
       "3  3831                   Cozy Entire Floor of Brownstone     4869   \n",
       "4  5022  Entire Apt: Spacious Studio/Loft by central park     7192   \n",
       "\n",
       "     host_name neighbourhood_group neighbourhood  latitude  longitude  \\\n",
       "0         John            Brooklyn    Kensington  40.64749  -73.97237   \n",
       "1     Jennifer           Manhattan       Midtown  40.75362  -73.98377   \n",
       "2    Elisabeth           Manhattan        Harlem  40.80902  -73.94190   \n",
       "3  LisaRoxanne            Brooklyn  Clinton Hill  40.68514  -73.95976   \n",
       "4        Laura           Manhattan   East Harlem  40.79851  -73.94399   \n",
       "\n",
       "         room_type  price  minimum_nights  number_of_reviews last_review  \\\n",
       "0     Private room    149               1                  9  2018-10-19   \n",
       "1  Entire home/apt    225               1                 45  2019-05-21   \n",
       "2     Private room    150               3                  0         NaN   \n",
       "3  Entire home/apt     89               1                270  2019-07-05   \n",
       "4  Entire home/apt     80              10                  9  2018-11-19   \n",
       "\n",
       "   reviews_per_month  calculated_host_listings_count  availability_365  \n",
       "0               0.21                               6               365  \n",
       "1               0.38                               2               355  \n",
       "2                NaN                               1               365  \n",
       "3               4.64                               1               194  \n",
       "4               0.10                               1                 0  "
      ]
     },
     "execution_count": 2,
     "metadata": {},
     "output_type": "execute_result"
    }
   ],
   "source": [
    "df = pd.read_csv('AB_NYC_2019.csv')\n",
    "df.head(5)"
   ]
  },
  {
   "cell_type": "code",
   "execution_count": 3,
   "metadata": {},
   "outputs": [
    {
     "data": {
      "text/plain": [
       "id                                    0\n",
       "name                                 16\n",
       "host_id                               0\n",
       "host_name                            21\n",
       "neighbourhood_group                   0\n",
       "neighbourhood                         0\n",
       "latitude                              0\n",
       "longitude                             0\n",
       "room_type                             0\n",
       "price                                 0\n",
       "minimum_nights                        0\n",
       "number_of_reviews                     0\n",
       "last_review                       10052\n",
       "reviews_per_month                 10052\n",
       "calculated_host_listings_count        0\n",
       "availability_365                      0\n",
       "dtype: int64"
      ]
     },
     "execution_count": 3,
     "metadata": {},
     "output_type": "execute_result"
    }
   ],
   "source": [
    "df.isna().sum()"
   ]
  },
  {
   "cell_type": "code",
   "execution_count": 4,
   "metadata": {},
   "outputs": [
    {
     "data": {
      "text/plain": [
       "0    10052\n",
       "Name: number_of_reviews, dtype: int64"
      ]
     },
     "execution_count": 4,
     "metadata": {},
     "output_type": "execute_result"
    }
   ],
   "source": [
    "df[df.last_review.isna() & df.reviews_per_month.isna()].number_of_reviews.value_counts()"
   ]
  },
  {
   "cell_type": "markdown",
   "metadata": {},
   "source": [
    "The null values in the `last_review` and `reviews_per_month` columns, conclude that these values are Null when `number_of_reviews` is 0. Which in simple terms means, that if the `number_of_reviews` is 0, there can be no `last_review` date nor `reviews_per_month` metric."
   ]
  },
  {
   "cell_type": "code",
   "execution_count": 5,
   "metadata": {},
   "outputs": [],
   "source": [
    "df[['last_review','reviews_per_month']] = df[['last_review','reviews_per_month']].fillna(0)"
   ]
  },
  {
   "cell_type": "markdown",
   "metadata": {},
   "source": [
    "The values in the `host_name` column are unique, this makes it difficult to impute and hence ignoring these rows would be a better option. In general sense there will not be signficant loss in data. Similarly the `names` column having Null values is also ignored."
   ]
  },
  {
   "cell_type": "code",
   "execution_count": 21,
   "metadata": {},
   "outputs": [
    {
     "data": {
      "text/plain": [
       "Michael         417\n",
       "David           403\n",
       "Sonder (NYC)    327\n",
       "John            294\n",
       "Alex            279\n",
       "               ... \n",
       "DyAnna            1\n",
       "Keyur             1\n",
       "Ossama            1\n",
       "Jonatan           1\n",
       "Kwankaew          1\n",
       "Name: host_name, Length: 11453, dtype: int64"
      ]
     },
     "execution_count": 21,
     "metadata": {},
     "output_type": "execute_result"
    }
   ],
   "source": [
    "df.host_name.value_counts(dropna=False)"
   ]
  },
  {
   "cell_type": "code",
   "execution_count": 6,
   "metadata": {},
   "outputs": [
    {
     "data": {
      "text/plain": [
       "219517861    327\n",
       "107434423    232\n",
       "30283594     121\n",
       "137358866    103\n",
       "12243051      96\n",
       "            ... \n",
       "1641589        1\n",
       "4070519        1\n",
       "208106618      1\n",
       "235939247      1\n",
       "1288080        1\n",
       "Name: host_id, Length: 37457, dtype: int64"
      ]
     },
     "execution_count": 6,
     "metadata": {},
     "output_type": "execute_result"
    }
   ],
   "source": [
    "df.host_id.value_counts(dropna=False)"
   ]
  },
  {
   "cell_type": "markdown",
   "metadata": {},
   "source": [
    "The two frequency tables from above conclude that:-\n",
    " * Alot of Hosts have multiple properites listed on the website.\n",
    " * The names of the hosts do repeat and hence, host_id is a better way to represent a host and all his/her listings rather than the host_name."
   ]
  },
  {
   "cell_type": "markdown",
   "metadata": {},
   "source": [
    "Now to explore the first question - Which hosts are the busiest and why?<br>\n",
    "\n",
    "The first step is to define what the term 'busiest' means in the context of the data. The data, to start with, is incoclusive to directly define 'busiest'. Hence for the purpose of the analysis, a proxy has been assumed which relates to 'busiest'. The dataset has a few columns that can be leveraged to define 'busiest' in this context - `reviews_per_month`, `availability_365` and `minimum_nights`."
   ]
  },
  {
   "cell_type": "markdown",
   "metadata": {},
   "source": [
    "The `availability_365` represents the number of days in a year, the location is open for bookings. All rows having a 0 means this place is temporarily shut down/not accepting bookings currently. The focus of the analysis is to find the hosts that are the 'busiest' it goes without saying that hosts having properties not accepting bookings are irrelevant to the analysis.\n",
    "\n",
    "This means the population for the analysis is the set of all listings on AirBnB website. The sample chosen for the analysis is a set of those listings who are currently accepting bookings."
   ]
  },
  {
   "cell_type": "code",
   "execution_count": 7,
   "metadata": {},
   "outputs": [],
   "source": [
    "df = df[df.availability_365 > 0]"
   ]
  },
  {
   "cell_type": "code",
   "execution_count": 8,
   "metadata": {},
   "outputs": [
    {
     "data": {
      "text/plain": [
       "count    31362.000000\n",
       "mean         8.338658\n",
       "std         23.836703\n",
       "min          1.000000\n",
       "25%          2.000000\n",
       "50%          3.000000\n",
       "75%          5.000000\n",
       "max       1250.000000\n",
       "Name: minimum_nights, dtype: float64"
      ]
     },
     "execution_count": 8,
     "metadata": {},
     "output_type": "execute_result"
    }
   ],
   "source": [
    "df.minimum_nights.describe()"
   ]
  },
  {
   "cell_type": "markdown",
   "metadata": {},
   "source": [
    "The `minimum_nights` column seems to have outliers with values exceeding `availability_365` or even out of the bounds of 365. \n",
    "For ease of analysis the following conclusions have been made:\n",
    "* The minimum_nights have to be within 365 days\n",
    "* The minimum_nights cannot exceed availabilty_365\n",
    "By these conclusions, only an year or one period of business (depending on `availability_365`) is taken into account when analyzing the data for busiest hosts."
   ]
  },
  {
   "cell_type": "code",
   "execution_count": 9,
   "metadata": {},
   "outputs": [],
   "source": [
    "df = df[df.minimum_nights <= df.availability_365]"
   ]
  },
  {
   "cell_type": "markdown",
   "metadata": {},
   "source": [
    "A metric is a system of measurement in this case 'busiest' which gives a relative comparision between the hosts. The metric defined below is a proxy to estimate the busyness of a host. The metric here using the fore-mentioned columns estimates the percentage of occupancy the property has seen in one period of business. The metric mean across various properties for a host gives the average occupancy rate/percentage the host. The higher the percentage, the busier a host is said to be.<br>\n",
    "The 3 columns afore-mentioend are taken into consideration for calculating this metric. <br>\n",
    "\n",
    "Firstly, the metric needs the available months (one period of business) the host is open for business/accepting bookings :-\n",
    "\n",
    "   <h6>available months =  <B><sup>available days</sup> / <sub>(365/12) </sub></B></h6> \n",
    "    \n",
    "For the given months the property is open for business, next is to estimate the maximum possible bookings a property can have through the available days, here the assumption is that, every customer stays exactly equal to minimum nights required by the listing :-\n",
    "\n",
    "   <h6>total possible bookings = <B><sup>available days</sup> / <sub>minimum nights</sub></B></h6>\n",
    "\n",
    "The next step is to estimate the actual number of bookings that occured in the year. The assumption made here is that the number of reviews recieved per month is analogous to that many customers on average booked/stayed in this property. Hence we will estimate bookings as :-\n",
    "\n",
    "   <h6>estimated bookings = <b>reviews per month x available months</b></h6>\n",
    "   \n",
    "Using all the above calculations, the percentage of occupancy throughout the year is gives as :-\n",
    "\n",
    "   <h6>occupancy % = <b><sup>estimated bookings</sup> / <sub>total possible bookings</sub> x 100</b></h6><br>\n",
    "   \n",
    "   \n",
    "POINT TO NOTE - According to the assumptions and calculations done above to calculate the metric, a property  with 1 customer over the entire period of business as the property's total possible booking records a 100% when the estimated bookings is also 1. In simpler terms, if the expected booking count is calculated to be 1 and the property hosts 1 customer, then the property is said to be 100% busy."
   ]
  },
  {
   "cell_type": "code",
   "execution_count": 10,
   "metadata": {},
   "outputs": [],
   "source": [
    "avg_month_length = 365/12\n",
    "df['availability_months'] = df.availability_365 / avg_month_length\n",
    "\n",
    "df['max_possible_bookings'] = df.availability_365 / df.minimum_nights\n",
    "df['booking_estimate'] = df.reviews_per_month * df.availability_months"
   ]
  },
  {
   "cell_type": "markdown",
   "metadata": {},
   "source": [
    "After all afore-mentioned calculations, there are outliers in the metric, where the estimated booking is more than the total possible bookings. <br>\n",
    "This is because of the fact that the column `reviews_per_month` is an average value and can show a very optimistic side for a few rows. These rows become irrelevant to the data.<br>\n",
    "\n",
    "NOTE: Since the metric is a proxy to define 'busiest', its not exactly perfect and the metric doesnot give the exact occupancy percentage the property bore, rather just a relativistic view. Hence for these reasons, tolerance is shown for losing data."
   ]
  },
  {
   "cell_type": "code",
   "execution_count": 13,
   "metadata": {},
   "outputs": [],
   "source": [
    "df = df[df.booking_estimate <= df.max_possible_bookings]"
   ]
  },
  {
   "cell_type": "markdown",
   "metadata": {},
   "source": [
    "Calculating the occupancy % as explained above."
   ]
  },
  {
   "cell_type": "code",
   "execution_count": 14,
   "metadata": {},
   "outputs": [
    {
     "data": {
      "text/html": [
       "<div>\n",
       "<style scoped>\n",
       "    .dataframe tbody tr th:only-of-type {\n",
       "        vertical-align: middle;\n",
       "    }\n",
       "\n",
       "    .dataframe tbody tr th {\n",
       "        vertical-align: top;\n",
       "    }\n",
       "\n",
       "    .dataframe thead th {\n",
       "        text-align: right;\n",
       "    }\n",
       "</style>\n",
       "<table border=\"1\" class=\"dataframe\">\n",
       "  <thead>\n",
       "    <tr style=\"text-align: right;\">\n",
       "      <th></th>\n",
       "      <th>id</th>\n",
       "      <th>name</th>\n",
       "      <th>host_id</th>\n",
       "      <th>host_name</th>\n",
       "      <th>neighbourhood_group</th>\n",
       "      <th>neighbourhood</th>\n",
       "      <th>latitude</th>\n",
       "      <th>longitude</th>\n",
       "      <th>room_type</th>\n",
       "      <th>price</th>\n",
       "      <th>minimum_nights</th>\n",
       "      <th>number_of_reviews</th>\n",
       "      <th>last_review</th>\n",
       "      <th>reviews_per_month</th>\n",
       "      <th>calculated_host_listings_count</th>\n",
       "      <th>availability_365</th>\n",
       "      <th>availability_months</th>\n",
       "      <th>max_possible_bookings</th>\n",
       "      <th>booking_estimate</th>\n",
       "      <th>occupancy_percentage</th>\n",
       "    </tr>\n",
       "  </thead>\n",
       "  <tbody>\n",
       "    <tr>\n",
       "      <th>0</th>\n",
       "      <td>2539</td>\n",
       "      <td>Clean &amp; quiet apt home by the park</td>\n",
       "      <td>2787</td>\n",
       "      <td>John</td>\n",
       "      <td>Brooklyn</td>\n",
       "      <td>Kensington</td>\n",
       "      <td>40.64749</td>\n",
       "      <td>-73.97237</td>\n",
       "      <td>Private room</td>\n",
       "      <td>149</td>\n",
       "      <td>1</td>\n",
       "      <td>9</td>\n",
       "      <td>2018-10-19</td>\n",
       "      <td>0.21</td>\n",
       "      <td>6</td>\n",
       "      <td>365</td>\n",
       "      <td>12.000000</td>\n",
       "      <td>365.000000</td>\n",
       "      <td>2.520000</td>\n",
       "      <td>0.690411</td>\n",
       "    </tr>\n",
       "    <tr>\n",
       "      <th>1</th>\n",
       "      <td>2595</td>\n",
       "      <td>Skylit Midtown Castle</td>\n",
       "      <td>2845</td>\n",
       "      <td>Jennifer</td>\n",
       "      <td>Manhattan</td>\n",
       "      <td>Midtown</td>\n",
       "      <td>40.75362</td>\n",
       "      <td>-73.98377</td>\n",
       "      <td>Entire home/apt</td>\n",
       "      <td>225</td>\n",
       "      <td>1</td>\n",
       "      <td>45</td>\n",
       "      <td>2019-05-21</td>\n",
       "      <td>0.38</td>\n",
       "      <td>2</td>\n",
       "      <td>355</td>\n",
       "      <td>11.671233</td>\n",
       "      <td>355.000000</td>\n",
       "      <td>4.435068</td>\n",
       "      <td>1.249315</td>\n",
       "    </tr>\n",
       "    <tr>\n",
       "      <th>2</th>\n",
       "      <td>3647</td>\n",
       "      <td>THE VILLAGE OF HARLEM....NEW YORK !</td>\n",
       "      <td>4632</td>\n",
       "      <td>Elisabeth</td>\n",
       "      <td>Manhattan</td>\n",
       "      <td>Harlem</td>\n",
       "      <td>40.80902</td>\n",
       "      <td>-73.94190</td>\n",
       "      <td>Private room</td>\n",
       "      <td>150</td>\n",
       "      <td>3</td>\n",
       "      <td>0</td>\n",
       "      <td>0</td>\n",
       "      <td>0.00</td>\n",
       "      <td>1</td>\n",
       "      <td>365</td>\n",
       "      <td>12.000000</td>\n",
       "      <td>121.666667</td>\n",
       "      <td>0.000000</td>\n",
       "      <td>0.000000</td>\n",
       "    </tr>\n",
       "    <tr>\n",
       "      <th>3</th>\n",
       "      <td>3831</td>\n",
       "      <td>Cozy Entire Floor of Brownstone</td>\n",
       "      <td>4869</td>\n",
       "      <td>LisaRoxanne</td>\n",
       "      <td>Brooklyn</td>\n",
       "      <td>Clinton Hill</td>\n",
       "      <td>40.68514</td>\n",
       "      <td>-73.95976</td>\n",
       "      <td>Entire home/apt</td>\n",
       "      <td>89</td>\n",
       "      <td>1</td>\n",
       "      <td>270</td>\n",
       "      <td>2019-07-05</td>\n",
       "      <td>4.64</td>\n",
       "      <td>1</td>\n",
       "      <td>194</td>\n",
       "      <td>6.378082</td>\n",
       "      <td>194.000000</td>\n",
       "      <td>29.594301</td>\n",
       "      <td>15.254795</td>\n",
       "    </tr>\n",
       "    <tr>\n",
       "      <th>5</th>\n",
       "      <td>5099</td>\n",
       "      <td>Large Cozy 1 BR Apartment In Midtown East</td>\n",
       "      <td>7322</td>\n",
       "      <td>Chris</td>\n",
       "      <td>Manhattan</td>\n",
       "      <td>Murray Hill</td>\n",
       "      <td>40.74767</td>\n",
       "      <td>-73.97500</td>\n",
       "      <td>Entire home/apt</td>\n",
       "      <td>200</td>\n",
       "      <td>3</td>\n",
       "      <td>74</td>\n",
       "      <td>2019-06-22</td>\n",
       "      <td>0.59</td>\n",
       "      <td>1</td>\n",
       "      <td>129</td>\n",
       "      <td>4.241096</td>\n",
       "      <td>43.000000</td>\n",
       "      <td>2.502247</td>\n",
       "      <td>5.819178</td>\n",
       "    </tr>\n",
       "  </tbody>\n",
       "</table>\n",
       "</div>"
      ],
      "text/plain": [
       "     id                                       name  host_id    host_name  \\\n",
       "0  2539         Clean & quiet apt home by the park     2787         John   \n",
       "1  2595                      Skylit Midtown Castle     2845     Jennifer   \n",
       "2  3647        THE VILLAGE OF HARLEM....NEW YORK !     4632    Elisabeth   \n",
       "3  3831            Cozy Entire Floor of Brownstone     4869  LisaRoxanne   \n",
       "5  5099  Large Cozy 1 BR Apartment In Midtown East     7322        Chris   \n",
       "\n",
       "  neighbourhood_group neighbourhood  latitude  longitude        room_type  \\\n",
       "0            Brooklyn    Kensington  40.64749  -73.97237     Private room   \n",
       "1           Manhattan       Midtown  40.75362  -73.98377  Entire home/apt   \n",
       "2           Manhattan        Harlem  40.80902  -73.94190     Private room   \n",
       "3            Brooklyn  Clinton Hill  40.68514  -73.95976  Entire home/apt   \n",
       "5           Manhattan   Murray Hill  40.74767  -73.97500  Entire home/apt   \n",
       "\n",
       "   price  minimum_nights  number_of_reviews last_review  reviews_per_month  \\\n",
       "0    149               1                  9  2018-10-19               0.21   \n",
       "1    225               1                 45  2019-05-21               0.38   \n",
       "2    150               3                  0           0               0.00   \n",
       "3     89               1                270  2019-07-05               4.64   \n",
       "5    200               3                 74  2019-06-22               0.59   \n",
       "\n",
       "   calculated_host_listings_count  availability_365  availability_months  \\\n",
       "0                               6               365            12.000000   \n",
       "1                               2               355            11.671233   \n",
       "2                               1               365            12.000000   \n",
       "3                               1               194             6.378082   \n",
       "5                               1               129             4.241096   \n",
       "\n",
       "   max_possible_bookings  booking_estimate  occupancy_percentage  \n",
       "0             365.000000          2.520000              0.690411  \n",
       "1             355.000000          4.435068              1.249315  \n",
       "2             121.666667          0.000000              0.000000  \n",
       "3             194.000000         29.594301             15.254795  \n",
       "5              43.000000          2.502247              5.819178  "
      ]
     },
     "execution_count": 14,
     "metadata": {},
     "output_type": "execute_result"
    }
   ],
   "source": [
    "df['occupancy_percentage'] = (df.booking_estimate / df.max_possible_bookings) * 100\n",
    "df.head(5)"
   ]
  },
  {
   "cell_type": "markdown",
   "metadata": {},
   "source": [
    "The `host_name` column as discussed before contains repeating names, the `calculated_host_listings_count` gives us a fair idea of how many properties in total a host owns. The use of `host_id` as primary for the `groupby` function is the only way. Followed by `host_name` for `groupby` since the names of the hosts is important in the analysis.<br>\n",
    "The `mean` is used as the aggregating function for the `occupancy_percentage` and `price` columns to get a fair idea about the general trend for each host, whereas for the `neighbourhood_group` and `neighbourhood` columns, the mode indicating the location where majority of host's properties reside, is used.\n",
    "The mode is chosen for the location columns because, the mode i.e. most frequent location for the property means the majority of contributions to the `occupancy_percentage` come from here."
   ]
  },
  {
   "cell_type": "code",
   "execution_count": 15,
   "metadata": {},
   "outputs": [],
   "source": [
    "grouped = df[[\n",
    "    'host_id',\n",
    "    'host_name',\n",
    "    'occupancy_percentage',\n",
    "    'price'\n",
    "    ,'neighbourhood_group',\n",
    "    'neighbourhood'\n",
    "]].groupby(['host_id','host_name'])\n",
    "\n",
    "df_occupancy = grouped.agg({\n",
    "    'occupancy_percentage':'mean',\n",
    "    'price':'mean',\n",
    "    'neighbourhood_group':pd.Series.mode,\n",
    "    'neighbourhood':pd.Series.mode\n",
    "}).reset_index()"
   ]
  },
  {
   "cell_type": "markdown",
   "metadata": {},
   "source": [
    "The grouped table now contains the average occupany percentage for every host. Sorting the table to obtain the top 50 busiest hosts for Airbnb."
   ]
  },
  {
   "cell_type": "code",
   "execution_count": 16,
   "metadata": {},
   "outputs": [
    {
     "data": {
      "text/html": [
       "<div>\n",
       "<style scoped>\n",
       "    .dataframe tbody tr th:only-of-type {\n",
       "        vertical-align: middle;\n",
       "    }\n",
       "\n",
       "    .dataframe tbody tr th {\n",
       "        vertical-align: top;\n",
       "    }\n",
       "\n",
       "    .dataframe thead th {\n",
       "        text-align: right;\n",
       "    }\n",
       "</style>\n",
       "<table border=\"1\" class=\"dataframe\">\n",
       "  <thead>\n",
       "    <tr style=\"text-align: right;\">\n",
       "      <th></th>\n",
       "      <th>host_id</th>\n",
       "      <th>host_name</th>\n",
       "      <th>occupancy_percentage</th>\n",
       "      <th>price</th>\n",
       "      <th>neighbourhood_group</th>\n",
       "      <th>neighbourhood</th>\n",
       "    </tr>\n",
       "  </thead>\n",
       "  <tbody>\n",
       "    <tr>\n",
       "      <th>8697</th>\n",
       "      <td>22223682</td>\n",
       "      <td>Zoey</td>\n",
       "      <td>98.630137</td>\n",
       "      <td>150.0</td>\n",
       "      <td>Manhattan</td>\n",
       "      <td>Upper West Side</td>\n",
       "    </tr>\n",
       "    <tr>\n",
       "      <th>13342</th>\n",
       "      <td>73986440</td>\n",
       "      <td>Daniel</td>\n",
       "      <td>98.630137</td>\n",
       "      <td>150.0</td>\n",
       "      <td>Manhattan</td>\n",
       "      <td>Financial District</td>\n",
       "    </tr>\n",
       "    <tr>\n",
       "      <th>19868</th>\n",
       "      <td>257674218</td>\n",
       "      <td>Jordi</td>\n",
       "      <td>98.630137</td>\n",
       "      <td>349.0</td>\n",
       "      <td>Manhattan</td>\n",
       "      <td>Chelsea</td>\n",
       "    </tr>\n",
       "    <tr>\n",
       "      <th>18227</th>\n",
       "      <td>214187963</td>\n",
       "      <td>Amanda</td>\n",
       "      <td>98.630137</td>\n",
       "      <td>217.5</td>\n",
       "      <td>Manhattan</td>\n",
       "      <td>West Village</td>\n",
       "    </tr>\n",
       "    <tr>\n",
       "      <th>2030</th>\n",
       "      <td>1646818</td>\n",
       "      <td>Sara</td>\n",
       "      <td>98.630137</td>\n",
       "      <td>120.0</td>\n",
       "      <td>Brooklyn</td>\n",
       "      <td>Williamsburg</td>\n",
       "    </tr>\n",
       "    <tr>\n",
       "      <th>12199</th>\n",
       "      <td>53462017</td>\n",
       "      <td>Harry</td>\n",
       "      <td>98.630137</td>\n",
       "      <td>135.0</td>\n",
       "      <td>Manhattan</td>\n",
       "      <td>Upper West Side</td>\n",
       "    </tr>\n",
       "    <tr>\n",
       "      <th>9970</th>\n",
       "      <td>30933227</td>\n",
       "      <td>Dipti</td>\n",
       "      <td>98.630137</td>\n",
       "      <td>130.0</td>\n",
       "      <td>Manhattan</td>\n",
       "      <td>Kips Bay</td>\n",
       "    </tr>\n",
       "    <tr>\n",
       "      <th>7299</th>\n",
       "      <td>15010630</td>\n",
       "      <td>Poma</td>\n",
       "      <td>98.630137</td>\n",
       "      <td>216.0</td>\n",
       "      <td>Manhattan</td>\n",
       "      <td>Chelsea</td>\n",
       "    </tr>\n",
       "    <tr>\n",
       "      <th>14900</th>\n",
       "      <td>110448579</td>\n",
       "      <td>Moncef</td>\n",
       "      <td>98.630137</td>\n",
       "      <td>78.0</td>\n",
       "      <td>Brooklyn</td>\n",
       "      <td>Flatbush</td>\n",
       "    </tr>\n",
       "    <tr>\n",
       "      <th>4282</th>\n",
       "      <td>5153401</td>\n",
       "      <td>Danielle</td>\n",
       "      <td>98.630137</td>\n",
       "      <td>160.0</td>\n",
       "      <td>Brooklyn</td>\n",
       "      <td>Fort Greene</td>\n",
       "    </tr>\n",
       "    <tr>\n",
       "      <th>8054</th>\n",
       "      <td>18884557</td>\n",
       "      <td>A-B</td>\n",
       "      <td>98.630137</td>\n",
       "      <td>150.0</td>\n",
       "      <td>Manhattan</td>\n",
       "      <td>West Village</td>\n",
       "    </tr>\n",
       "    <tr>\n",
       "      <th>14706</th>\n",
       "      <td>105506002</td>\n",
       "      <td>Martin &amp; Steve</td>\n",
       "      <td>98.630137</td>\n",
       "      <td>44.0</td>\n",
       "      <td>Brooklyn</td>\n",
       "      <td>Williamsburg</td>\n",
       "    </tr>\n",
       "    <tr>\n",
       "      <th>19849</th>\n",
       "      <td>257396181</td>\n",
       "      <td>Steven</td>\n",
       "      <td>98.630137</td>\n",
       "      <td>250.0</td>\n",
       "      <td>Manhattan</td>\n",
       "      <td>Midtown</td>\n",
       "    </tr>\n",
       "    <tr>\n",
       "      <th>20256</th>\n",
       "      <td>263883589</td>\n",
       "      <td>Zach</td>\n",
       "      <td>98.630137</td>\n",
       "      <td>329.0</td>\n",
       "      <td>Brooklyn</td>\n",
       "      <td>Boerum Hill</td>\n",
       "    </tr>\n",
       "    <tr>\n",
       "      <th>11271</th>\n",
       "      <td>43885531</td>\n",
       "      <td>Lee</td>\n",
       "      <td>98.630137</td>\n",
       "      <td>130.0</td>\n",
       "      <td>Manhattan</td>\n",
       "      <td>East Village</td>\n",
       "    </tr>\n",
       "    <tr>\n",
       "      <th>19922</th>\n",
       "      <td>258230385</td>\n",
       "      <td>Vangelis</td>\n",
       "      <td>98.630137</td>\n",
       "      <td>176.0</td>\n",
       "      <td>Manhattan</td>\n",
       "      <td>Chinatown</td>\n",
       "    </tr>\n",
       "    <tr>\n",
       "      <th>19817</th>\n",
       "      <td>256649546</td>\n",
       "      <td>Viberlyn</td>\n",
       "      <td>98.630137</td>\n",
       "      <td>2995.0</td>\n",
       "      <td>Manhattan</td>\n",
       "      <td>Chelsea</td>\n",
       "    </tr>\n",
       "    <tr>\n",
       "      <th>4962</th>\n",
       "      <td>6602545</td>\n",
       "      <td>Eleni</td>\n",
       "      <td>98.630137</td>\n",
       "      <td>160.0</td>\n",
       "      <td>Brooklyn</td>\n",
       "      <td>South Slope</td>\n",
       "    </tr>\n",
       "    <tr>\n",
       "      <th>8492</th>\n",
       "      <td>21307389</td>\n",
       "      <td>Emma</td>\n",
       "      <td>98.630137</td>\n",
       "      <td>250.0</td>\n",
       "      <td>Manhattan</td>\n",
       "      <td>Financial District</td>\n",
       "    </tr>\n",
       "    <tr>\n",
       "      <th>8879</th>\n",
       "      <td>23188519</td>\n",
       "      <td>Emily Wes</td>\n",
       "      <td>98.630137</td>\n",
       "      <td>68.0</td>\n",
       "      <td>Brooklyn</td>\n",
       "      <td>Bedford-Stuyvesant</td>\n",
       "    </tr>\n",
       "    <tr>\n",
       "      <th>20264</th>\n",
       "      <td>263957584</td>\n",
       "      <td>Sara</td>\n",
       "      <td>98.531507</td>\n",
       "      <td>198.0</td>\n",
       "      <td>Brooklyn</td>\n",
       "      <td>Bushwick</td>\n",
       "    </tr>\n",
       "    <tr>\n",
       "      <th>20076</th>\n",
       "      <td>260879160</td>\n",
       "      <td>Safia</td>\n",
       "      <td>98.498630</td>\n",
       "      <td>160.0</td>\n",
       "      <td>Manhattan</td>\n",
       "      <td>Lower East Side</td>\n",
       "    </tr>\n",
       "    <tr>\n",
       "      <th>3965</th>\n",
       "      <td>4427689</td>\n",
       "      <td>Nour</td>\n",
       "      <td>97.808219</td>\n",
       "      <td>129.0</td>\n",
       "      <td>Manhattan</td>\n",
       "      <td>Hell's Kitchen</td>\n",
       "    </tr>\n",
       "    <tr>\n",
       "      <th>1075</th>\n",
       "      <td>720558</td>\n",
       "      <td>Sara</td>\n",
       "      <td>97.578082</td>\n",
       "      <td>105.0</td>\n",
       "      <td>Brooklyn</td>\n",
       "      <td>South Slope</td>\n",
       "    </tr>\n",
       "    <tr>\n",
       "      <th>5041</th>\n",
       "      <td>6790229</td>\n",
       "      <td>Jean-Yves</td>\n",
       "      <td>96.986301</td>\n",
       "      <td>132.5</td>\n",
       "      <td>Brooklyn</td>\n",
       "      <td>Bedford-Stuyvesant</td>\n",
       "    </tr>\n",
       "    <tr>\n",
       "      <th>5922</th>\n",
       "      <td>9287155</td>\n",
       "      <td>Nick</td>\n",
       "      <td>96.657534</td>\n",
       "      <td>450.0</td>\n",
       "      <td>Manhattan</td>\n",
       "      <td>Kips Bay</td>\n",
       "    </tr>\n",
       "    <tr>\n",
       "      <th>1543</th>\n",
       "      <td>1252131</td>\n",
       "      <td>Gianni</td>\n",
       "      <td>96.657534</td>\n",
       "      <td>199.0</td>\n",
       "      <td>Manhattan</td>\n",
       "      <td>Kips Bay</td>\n",
       "    </tr>\n",
       "    <tr>\n",
       "      <th>14035</th>\n",
       "      <td>89767580</td>\n",
       "      <td>Jk</td>\n",
       "      <td>95.671233</td>\n",
       "      <td>250.0</td>\n",
       "      <td>Manhattan</td>\n",
       "      <td>Midtown</td>\n",
       "    </tr>\n",
       "    <tr>\n",
       "      <th>9035</th>\n",
       "      <td>23952383</td>\n",
       "      <td>Jean</td>\n",
       "      <td>95.342466</td>\n",
       "      <td>75.0</td>\n",
       "      <td>Brooklyn</td>\n",
       "      <td>Park Slope</td>\n",
       "    </tr>\n",
       "    <tr>\n",
       "      <th>594</th>\n",
       "      <td>303882</td>\n",
       "      <td>Brie</td>\n",
       "      <td>95.342466</td>\n",
       "      <td>130.0</td>\n",
       "      <td>Manhattan</td>\n",
       "      <td>East Village</td>\n",
       "    </tr>\n",
       "    <tr>\n",
       "      <th>10580</th>\n",
       "      <td>36821356</td>\n",
       "      <td>Vitaly And Lena</td>\n",
       "      <td>94.816438</td>\n",
       "      <td>96.0</td>\n",
       "      <td>Brooklyn</td>\n",
       "      <td>Borough Park</td>\n",
       "    </tr>\n",
       "    <tr>\n",
       "      <th>8341</th>\n",
       "      <td>20490026</td>\n",
       "      <td>Josie</td>\n",
       "      <td>94.684932</td>\n",
       "      <td>55.0</td>\n",
       "      <td>Queens</td>\n",
       "      <td>Sunnyside</td>\n",
       "    </tr>\n",
       "    <tr>\n",
       "      <th>943</th>\n",
       "      <td>593115</td>\n",
       "      <td>LuLu</td>\n",
       "      <td>94.684932</td>\n",
       "      <td>150.0</td>\n",
       "      <td>Brooklyn</td>\n",
       "      <td>Brooklyn Heights</td>\n",
       "    </tr>\n",
       "    <tr>\n",
       "      <th>18406</th>\n",
       "      <td>218680572</td>\n",
       "      <td>Curtiss</td>\n",
       "      <td>93.895890</td>\n",
       "      <td>250.0</td>\n",
       "      <td>Manhattan</td>\n",
       "      <td>Harlem</td>\n",
       "    </tr>\n",
       "    <tr>\n",
       "      <th>4041</th>\n",
       "      <td>4562182</td>\n",
       "      <td>Florence</td>\n",
       "      <td>93.698630</td>\n",
       "      <td>225.0</td>\n",
       "      <td>Manhattan</td>\n",
       "      <td>Harlem</td>\n",
       "    </tr>\n",
       "    <tr>\n",
       "      <th>6273</th>\n",
       "      <td>10355206</td>\n",
       "      <td>Rosa</td>\n",
       "      <td>93.698630</td>\n",
       "      <td>75.0</td>\n",
       "      <td>Queens</td>\n",
       "      <td>Ridgewood</td>\n",
       "    </tr>\n",
       "    <tr>\n",
       "      <th>1117</th>\n",
       "      <td>757166</td>\n",
       "      <td>Tokunbo</td>\n",
       "      <td>92.745205</td>\n",
       "      <td>72.0</td>\n",
       "      <td>Brooklyn</td>\n",
       "      <td>Bedford-Stuyvesant</td>\n",
       "    </tr>\n",
       "    <tr>\n",
       "      <th>19897</th>\n",
       "      <td>257997585</td>\n",
       "      <td>Yu</td>\n",
       "      <td>92.745205</td>\n",
       "      <td>129.0</td>\n",
       "      <td>Manhattan</td>\n",
       "      <td>Midtown</td>\n",
       "    </tr>\n",
       "    <tr>\n",
       "      <th>4493</th>\n",
       "      <td>5606448</td>\n",
       "      <td>Pete</td>\n",
       "      <td>92.712329</td>\n",
       "      <td>249.0</td>\n",
       "      <td>Brooklyn</td>\n",
       "      <td>Greenpoint</td>\n",
       "    </tr>\n",
       "    <tr>\n",
       "      <th>11173</th>\n",
       "      <td>43034440</td>\n",
       "      <td>Michelle</td>\n",
       "      <td>92.712329</td>\n",
       "      <td>100.0</td>\n",
       "      <td>Brooklyn</td>\n",
       "      <td>Prospect-Lefferts Gardens</td>\n",
       "    </tr>\n",
       "    <tr>\n",
       "      <th>19503</th>\n",
       "      <td>247584029</td>\n",
       "      <td>Robert</td>\n",
       "      <td>92.712329</td>\n",
       "      <td>132.0</td>\n",
       "      <td>Brooklyn</td>\n",
       "      <td>Bedford-Stuyvesant</td>\n",
       "    </tr>\n",
       "    <tr>\n",
       "      <th>19783</th>\n",
       "      <td>255853430</td>\n",
       "      <td>William</td>\n",
       "      <td>92.547945</td>\n",
       "      <td>200.0</td>\n",
       "      <td>Manhattan</td>\n",
       "      <td>Midtown</td>\n",
       "    </tr>\n",
       "    <tr>\n",
       "      <th>3943</th>\n",
       "      <td>4393578</td>\n",
       "      <td>Jack</td>\n",
       "      <td>92.054795</td>\n",
       "      <td>1731.0</td>\n",
       "      <td>Manhattan</td>\n",
       "      <td>Chelsea</td>\n",
       "    </tr>\n",
       "    <tr>\n",
       "      <th>2365</th>\n",
       "      <td>2115395</td>\n",
       "      <td>Amit</td>\n",
       "      <td>91.726027</td>\n",
       "      <td>107.0</td>\n",
       "      <td>Queens</td>\n",
       "      <td>Long Island City</td>\n",
       "    </tr>\n",
       "    <tr>\n",
       "      <th>4028</th>\n",
       "      <td>4532557</td>\n",
       "      <td>Joshua</td>\n",
       "      <td>90.246575</td>\n",
       "      <td>84.0</td>\n",
       "      <td>Brooklyn</td>\n",
       "      <td>Williamsburg</td>\n",
       "    </tr>\n",
       "    <tr>\n",
       "      <th>16806</th>\n",
       "      <td>163376694</td>\n",
       "      <td>Stephanie</td>\n",
       "      <td>89.753425</td>\n",
       "      <td>125.0</td>\n",
       "      <td>Brooklyn</td>\n",
       "      <td>Greenpoint</td>\n",
       "    </tr>\n",
       "    <tr>\n",
       "      <th>12567</th>\n",
       "      <td>60102990</td>\n",
       "      <td>Nicolas</td>\n",
       "      <td>89.753425</td>\n",
       "      <td>199.0</td>\n",
       "      <td>Manhattan</td>\n",
       "      <td>West Village</td>\n",
       "    </tr>\n",
       "    <tr>\n",
       "      <th>19716</th>\n",
       "      <td>253789998</td>\n",
       "      <td>Kim</td>\n",
       "      <td>88.767123</td>\n",
       "      <td>149.0</td>\n",
       "      <td>Manhattan</td>\n",
       "      <td>Hell's Kitchen</td>\n",
       "    </tr>\n",
       "    <tr>\n",
       "      <th>19391</th>\n",
       "      <td>244217480</td>\n",
       "      <td>Vlad</td>\n",
       "      <td>88.767123</td>\n",
       "      <td>83.0</td>\n",
       "      <td>Staten Island</td>\n",
       "      <td>Arden Heights</td>\n",
       "    </tr>\n",
       "    <tr>\n",
       "      <th>135</th>\n",
       "      <td>56512</td>\n",
       "      <td>Joanna</td>\n",
       "      <td>88.767123</td>\n",
       "      <td>150.0</td>\n",
       "      <td>Brooklyn</td>\n",
       "      <td>Williamsburg</td>\n",
       "    </tr>\n",
       "  </tbody>\n",
       "</table>\n",
       "</div>"
      ],
      "text/plain": [
       "         host_id        host_name  occupancy_percentage   price  \\\n",
       "8697    22223682             Zoey             98.630137   150.0   \n",
       "13342   73986440           Daniel             98.630137   150.0   \n",
       "19868  257674218            Jordi             98.630137   349.0   \n",
       "18227  214187963           Amanda             98.630137   217.5   \n",
       "2030     1646818             Sara             98.630137   120.0   \n",
       "12199   53462017            Harry             98.630137   135.0   \n",
       "9970    30933227            Dipti             98.630137   130.0   \n",
       "7299    15010630             Poma             98.630137   216.0   \n",
       "14900  110448579           Moncef             98.630137    78.0   \n",
       "4282     5153401         Danielle             98.630137   160.0   \n",
       "8054    18884557              A-B             98.630137   150.0   \n",
       "14706  105506002   Martin & Steve             98.630137    44.0   \n",
       "19849  257396181           Steven             98.630137   250.0   \n",
       "20256  263883589             Zach             98.630137   329.0   \n",
       "11271   43885531              Lee             98.630137   130.0   \n",
       "19922  258230385         Vangelis             98.630137   176.0   \n",
       "19817  256649546         Viberlyn             98.630137  2995.0   \n",
       "4962     6602545            Eleni             98.630137   160.0   \n",
       "8492    21307389             Emma             98.630137   250.0   \n",
       "8879    23188519        Emily Wes             98.630137    68.0   \n",
       "20264  263957584             Sara             98.531507   198.0   \n",
       "20076  260879160            Safia             98.498630   160.0   \n",
       "3965     4427689             Nour             97.808219   129.0   \n",
       "1075      720558             Sara             97.578082   105.0   \n",
       "5041     6790229        Jean-Yves             96.986301   132.5   \n",
       "5922     9287155             Nick             96.657534   450.0   \n",
       "1543     1252131           Gianni             96.657534   199.0   \n",
       "14035   89767580               Jk             95.671233   250.0   \n",
       "9035    23952383             Jean             95.342466    75.0   \n",
       "594       303882             Brie             95.342466   130.0   \n",
       "10580   36821356  Vitaly And Lena             94.816438    96.0   \n",
       "8341    20490026            Josie             94.684932    55.0   \n",
       "943       593115             LuLu             94.684932   150.0   \n",
       "18406  218680572          Curtiss             93.895890   250.0   \n",
       "4041     4562182         Florence             93.698630   225.0   \n",
       "6273    10355206             Rosa             93.698630    75.0   \n",
       "1117      757166          Tokunbo             92.745205    72.0   \n",
       "19897  257997585               Yu             92.745205   129.0   \n",
       "4493     5606448             Pete             92.712329   249.0   \n",
       "11173   43034440         Michelle             92.712329   100.0   \n",
       "19503  247584029           Robert             92.712329   132.0   \n",
       "19783  255853430          William             92.547945   200.0   \n",
       "3943     4393578             Jack             92.054795  1731.0   \n",
       "2365     2115395             Amit             91.726027   107.0   \n",
       "4028     4532557           Joshua             90.246575    84.0   \n",
       "16806  163376694        Stephanie             89.753425   125.0   \n",
       "12567   60102990          Nicolas             89.753425   199.0   \n",
       "19716  253789998              Kim             88.767123   149.0   \n",
       "19391  244217480             Vlad             88.767123    83.0   \n",
       "135        56512           Joanna             88.767123   150.0   \n",
       "\n",
       "      neighbourhood_group              neighbourhood  \n",
       "8697            Manhattan            Upper West Side  \n",
       "13342           Manhattan         Financial District  \n",
       "19868           Manhattan                    Chelsea  \n",
       "18227           Manhattan               West Village  \n",
       "2030             Brooklyn               Williamsburg  \n",
       "12199           Manhattan            Upper West Side  \n",
       "9970            Manhattan                   Kips Bay  \n",
       "7299            Manhattan                    Chelsea  \n",
       "14900            Brooklyn                   Flatbush  \n",
       "4282             Brooklyn                Fort Greene  \n",
       "8054            Manhattan               West Village  \n",
       "14706            Brooklyn               Williamsburg  \n",
       "19849           Manhattan                    Midtown  \n",
       "20256            Brooklyn                Boerum Hill  \n",
       "11271           Manhattan               East Village  \n",
       "19922           Manhattan                  Chinatown  \n",
       "19817           Manhattan                    Chelsea  \n",
       "4962             Brooklyn                South Slope  \n",
       "8492            Manhattan         Financial District  \n",
       "8879             Brooklyn         Bedford-Stuyvesant  \n",
       "20264            Brooklyn                   Bushwick  \n",
       "20076           Manhattan            Lower East Side  \n",
       "3965            Manhattan             Hell's Kitchen  \n",
       "1075             Brooklyn                South Slope  \n",
       "5041             Brooklyn         Bedford-Stuyvesant  \n",
       "5922            Manhattan                   Kips Bay  \n",
       "1543            Manhattan                   Kips Bay  \n",
       "14035           Manhattan                    Midtown  \n",
       "9035             Brooklyn                 Park Slope  \n",
       "594             Manhattan               East Village  \n",
       "10580            Brooklyn               Borough Park  \n",
       "8341               Queens                  Sunnyside  \n",
       "943              Brooklyn           Brooklyn Heights  \n",
       "18406           Manhattan                     Harlem  \n",
       "4041            Manhattan                     Harlem  \n",
       "6273               Queens                  Ridgewood  \n",
       "1117             Brooklyn         Bedford-Stuyvesant  \n",
       "19897           Manhattan                    Midtown  \n",
       "4493             Brooklyn                 Greenpoint  \n",
       "11173            Brooklyn  Prospect-Lefferts Gardens  \n",
       "19503            Brooklyn         Bedford-Stuyvesant  \n",
       "19783           Manhattan                    Midtown  \n",
       "3943            Manhattan                    Chelsea  \n",
       "2365               Queens           Long Island City  \n",
       "4028             Brooklyn               Williamsburg  \n",
       "16806            Brooklyn                 Greenpoint  \n",
       "12567           Manhattan               West Village  \n",
       "19716           Manhattan             Hell's Kitchen  \n",
       "19391       Staten Island              Arden Heights  \n",
       "135              Brooklyn               Williamsburg  "
      ]
     },
     "execution_count": 16,
     "metadata": {},
     "output_type": "execute_result"
    }
   ],
   "source": [
    "Top_50 = df_occupancy.sort_values('occupancy_percentage',ascending=False).head(50)\n",
    "Top_50"
   ]
  },
  {
   "cell_type": "markdown",
   "metadata": {},
   "source": [
    "Focusing the analysis on the `Top_50` hosts, to answer - Why these hosts are the busiest.For this purpose a frequency distribution table for the `neighbourhood_group` is made to find the general location of the properties of top 50 hosts. The `neighbourhood` column is not chosen here as it is granular information and even for the Top 50 hosts there are too many unique values. This makes it harder for to analyze."
   ]
  },
  {
   "cell_type": "code",
   "execution_count": 17,
   "metadata": {},
   "outputs": [
    {
     "data": {
      "text/plain": [
       "Manhattan        26\n",
       "Brooklyn         20\n",
       "Queens            3\n",
       "Staten Island     1\n",
       "Name: neighbourhood_group, dtype: int64"
      ]
     },
     "execution_count": 17,
     "metadata": {},
     "output_type": "execute_result"
    }
   ],
   "source": [
    "Top_50.neighbourhood_group.value_counts()"
   ]
  },
  {
   "cell_type": "markdown",
   "metadata": {},
   "source": [
    "Right off the bat the inference can be made that majority of these hosts have atleast one of their properties in either 'Manhattan' or 'Brooklyn'. These differences are very clear."
   ]
  },
  {
   "cell_type": "code",
   "execution_count": 42,
   "metadata": {},
   "outputs": [
    {
     "data": {
      "image/png": "[encoded data removed]",
      "text/plain": [
       "<Figure size 864x504 with 1 Axes>"
      ]
     },
     "metadata": {},
     "output_type": "display_data"
    }
   ],
   "source": [
    "# percentages = Top_50.neighbourhood_group.value_counts(normalize=True) * 100\n",
    "\n",
    "plt.figure(figsize=(12,7))\n",
    "plt.style.use('fivethirtyeight')\n",
    "sns.countplot(Top_50.neighbourhood_group,color='#009999',)\n",
    "plt.title('Location of Property for Top 50 Busiest Hosts',y=1.03)\n",
    "plt.suptitle('The distribution of location of properties amongst the Top 50 Hosts ',y=0.9)\n",
    "plt.ylim(0,29)\n",
    "plt.xlabel('Location areas')\n",
    "plt.ylabel('Number of properties')\n",
    "plt.show()"
   ]
  },
  {
   "cell_type": "markdown",
   "metadata": {},
   "source": [
    "As concluded above from the frequency table, the Top 50 Hosts have their assets mainly in 'Manhattan' and 'Brooklyn'. The plot highlights these differences clearly. The findings here conclude that, the top 50 hosts are the busiest since majority of their properties are situated in either locations.<br>"
   ]
  },
  {
   "cell_type": "markdown",
   "metadata": {},
   "source": [
    "This analysis leads to the next question - What areas have more traffic than others and why is that the case?<br>\n",
    "From above conclusions, it was true that location is a factor controlling busyness of a property. The next step is to confirm this suspision on the entire dataset.\n",
    "The sample under consideration is the `df_occupancy` created previosuly. This sample contains all hosts, their average occupancy rates/percentages and major locations of their properties.<br>\n",
    "\n",
    "In terms of location, there are two levels for this analysis. One is the more general `neighbourhood_group` and the other on a granular level `neighbourhood`. Starting on level 1 the general location i.e. `neighbourhood_group`, first step is to analyze the general category of locations the properties reside in."
   ]
  },
  {
   "cell_type": "code",
   "execution_count": 38,
   "metadata": {},
   "outputs": [
    {
     "data": {
      "text/plain": [
       "Manhattan        12973\n",
       "Brooklyn         11741\n",
       "Queens            4205\n",
       "Bronx              903\n",
       "Staten Island      327\n",
       "Name: neighbourhood_group, dtype: int64"
      ]
     },
     "execution_count": 38,
     "metadata": {},
     "output_type": "execute_result"
    }
   ],
   "source": [
    "df.neighbourhood_group.value_counts()"
   ]
  },
  {
   "cell_type": "markdown",
   "metadata": {},
   "source": [
    "Now grouping the sample by `neighbourhood_group` and taking a mean of `occupancy_percentage` to get a distribution of the occupancy across the neighbourhood groups."
   ]
  },
  {
   "cell_type": "code",
   "execution_count": 43,
   "metadata": {},
   "outputs": [
    {
     "data": {
      "text/html": [
       "<div>\n",
       "<style scoped>\n",
       "    .dataframe tbody tr th:only-of-type {\n",
       "        vertical-align: middle;\n",
       "    }\n",
       "\n",
       "    .dataframe tbody tr th {\n",
       "        vertical-align: top;\n",
       "    }\n",
       "\n",
       "    .dataframe thead th {\n",
       "        text-align: right;\n",
       "    }\n",
       "</style>\n",
       "<table border=\"1\" class=\"dataframe\">\n",
       "  <thead>\n",
       "    <tr style=\"text-align: right;\">\n",
       "      <th></th>\n",
       "      <th>neighbourhood_group</th>\n",
       "      <th>occupancy_percentage</th>\n",
       "    </tr>\n",
       "  </thead>\n",
       "  <tbody>\n",
       "    <tr>\n",
       "      <th>0</th>\n",
       "      <td>Bronx</td>\n",
       "      <td>11.564702</td>\n",
       "    </tr>\n",
       "    <tr>\n",
       "      <th>1</th>\n",
       "      <td>Brooklyn</td>\n",
       "      <td>12.936302</td>\n",
       "    </tr>\n",
       "    <tr>\n",
       "      <th>2</th>\n",
       "      <td>Manhattan</td>\n",
       "      <td>12.943789</td>\n",
       "    </tr>\n",
       "    <tr>\n",
       "      <th>3</th>\n",
       "      <td>Queens</td>\n",
       "      <td>12.622992</td>\n",
       "    </tr>\n",
       "    <tr>\n",
       "      <th>4</th>\n",
       "      <td>Staten Island</td>\n",
       "      <td>12.475958</td>\n",
       "    </tr>\n",
       "  </tbody>\n",
       "</table>\n",
       "</div>"
      ],
      "text/plain": [
       "  neighbourhood_group  occupancy_percentage\n",
       "0               Bronx             11.564702\n",
       "1            Brooklyn             12.936302\n",
       "2           Manhattan             12.943789\n",
       "3              Queens             12.622992\n",
       "4       Staten Island             12.475958"
      ]
     },
     "execution_count": 43,
     "metadata": {},
     "output_type": "execute_result"
    }
   ],
   "source": [
    "grouped = df[['occupancy_percentage','neighbourhood_group']].groupby('neighbourhood_group')\n",
    "df_location_group = grouped.mean().reset_index()\n",
    "df_location_group"
   ]
  },
  {
   "cell_type": "markdown",
   "metadata": {},
   "source": [
    "The differences between the locations is seems very little and impossible to differentiate via the table. To make the differences clear, a bar plot below is made."
   ]
  },
  {
   "cell_type": "code",
   "execution_count": 49,
   "metadata": {},
   "outputs": [
    {
     "data": {
      "text/plain": [
       "Text(0.5, 1.0, 'Percentage of occupancy vs Location')"
      ]
     },
     "execution_count": 49,
     "metadata": {},
     "output_type": "execute_result"
    },
    {
     "data": {
      "image/png": "[encoded data removed]",
      "text/plain": [
       "<Figure size 720x504 with 1 Axes>"
      ]
     },
     "metadata": {},
     "output_type": "display_data"
    }
   ],
   "source": [
    "plt.figure(figsize=(10,7))\n",
    "plt.style.use('fivethirtyeight')\n",
    "plt.bar(df_location_group.neighbourhood_group,df_location_group.occupancy_percentage,color='#009999',width=0.75)\n",
    "plt.ylim(0,15)\n",
    "plt.xlabel('Location areas')\n",
    "plt.ylabel('percentage occupancy')\n",
    "plt.suptitle('The percentage of occupancies for different states in NYC',y=0.88)\n",
    "plt.title('Percentage of occupancy vs Location')"
   ]
  },
  {
   "cell_type": "markdown",
   "metadata": {},
   "source": [
    "The plot above shows that among the location areas, the areas having more traffic than others are - 'Manhattan', 'Brooklyn' and 'Queens' in close third. Though the differnces are narrow it is still significant.<br>\n",
    "Combining the results of this plot and the previous plot,the conclusion can be, Hosts having properties in the areas, 'Manhatten', 'Brooklyn' and 'Queens' are busier than the rest in general."
   ]
  },
  {
   "cell_type": "markdown",
   "metadata": {},
   "source": [
    "For these 3 locations, the analysis can proceed onto granular information to find more specific locations in these 3 areas that recieve more traffic than the rest of the locations."
   ]
  },
  {
   "cell_type": "code",
   "execution_count": 45,
   "metadata": {},
   "outputs": [
    {
     "data": {
      "text/plain": [
       "Bedford-Stuyvesant    2369\n",
       "Williamsburg          1957\n",
       "Harlem                1645\n",
       "Hell's Kitchen        1404\n",
       "Bushwick              1388\n",
       "                      ... \n",
       "Richmondtown             1\n",
       "Silver Lake              1\n",
       "Fort Wadsworth           1\n",
       "Willowbrook              1\n",
       "Rossville                1\n",
       "Name: neighbourhood, Length: 218, dtype: int64"
      ]
     },
     "execution_count": 45,
     "metadata": {},
     "output_type": "execute_result"
    }
   ],
   "source": [
    "df.neighbourhood.value_counts()"
   ]
  },
  {
   "cell_type": "markdown",
   "metadata": {},
   "source": [
    "Similar to the problem we faced with `neighbourhood_group`, we will have to clean this column."
   ]
  },
  {
   "cell_type": "markdown",
   "metadata": {},
   "source": [
    "The samples are grouped by `neighbourhood` and aggregated on the `occupancy_percentage` by mean, similar to  `neightbourhood_group`."
   ]
  },
  {
   "cell_type": "code",
   "execution_count": 46,
   "metadata": {},
   "outputs": [
    {
     "data": {
      "text/html": [
       "<div>\n",
       "<style scoped>\n",
       "    .dataframe tbody tr th:only-of-type {\n",
       "        vertical-align: middle;\n",
       "    }\n",
       "\n",
       "    .dataframe tbody tr th {\n",
       "        vertical-align: top;\n",
       "    }\n",
       "\n",
       "    .dataframe thead th {\n",
       "        text-align: right;\n",
       "    }\n",
       "</style>\n",
       "<table border=\"1\" class=\"dataframe\">\n",
       "  <thead>\n",
       "    <tr style=\"text-align: right;\">\n",
       "      <th></th>\n",
       "      <th>neighbourhood</th>\n",
       "      <th>occupancy_percentage</th>\n",
       "    </tr>\n",
       "  </thead>\n",
       "  <tbody>\n",
       "    <tr>\n",
       "      <th>1</th>\n",
       "      <td>Arden Heights</td>\n",
       "      <td>36.767123</td>\n",
       "    </tr>\n",
       "    <tr>\n",
       "      <th>139</th>\n",
       "      <td>New Brighton</td>\n",
       "      <td>35.020274</td>\n",
       "    </tr>\n",
       "    <tr>\n",
       "      <th>163</th>\n",
       "      <td>Richmondtown</td>\n",
       "      <td>25.249315</td>\n",
       "    </tr>\n",
       "    <tr>\n",
       "      <th>101</th>\n",
       "      <td>Hunts Point</td>\n",
       "      <td>22.025342</td>\n",
       "    </tr>\n",
       "    <tr>\n",
       "      <th>168</th>\n",
       "      <td>Rosebank</td>\n",
       "      <td>21.797260</td>\n",
       "    </tr>\n",
       "    <tr>\n",
       "      <th>...</th>\n",
       "      <td>...</td>\n",
       "      <td>...</td>\n",
       "    </tr>\n",
       "    <tr>\n",
       "      <th>64</th>\n",
       "      <td>Eastchester</td>\n",
       "      <td>1.894204</td>\n",
       "    </tr>\n",
       "    <tr>\n",
       "      <th>41</th>\n",
       "      <td>Co-op City</td>\n",
       "      <td>1.660274</td>\n",
       "    </tr>\n",
       "    <tr>\n",
       "      <th>115</th>\n",
       "      <td>Little Neck</td>\n",
       "      <td>0.841644</td>\n",
       "    </tr>\n",
       "    <tr>\n",
       "      <th>20</th>\n",
       "      <td>Breezy Point</td>\n",
       "      <td>0.482192</td>\n",
       "    </tr>\n",
       "    <tr>\n",
       "      <th>81</th>\n",
       "      <td>Fort Wadsworth</td>\n",
       "      <td>0.000000</td>\n",
       "    </tr>\n",
       "  </tbody>\n",
       "</table>\n",
       "<p>218 rows × 2 columns</p>\n",
       "</div>"
      ],
      "text/plain": [
       "      neighbourhood  occupancy_percentage\n",
       "1     Arden Heights             36.767123\n",
       "139    New Brighton             35.020274\n",
       "163    Richmondtown             25.249315\n",
       "101     Hunts Point             22.025342\n",
       "168        Rosebank             21.797260\n",
       "..              ...                   ...\n",
       "64      Eastchester              1.894204\n",
       "41       Co-op City              1.660274\n",
       "115     Little Neck              0.841644\n",
       "20     Breezy Point              0.482192\n",
       "81   Fort Wadsworth              0.000000\n",
       "\n",
       "[218 rows x 2 columns]"
      ]
     },
     "execution_count": 46,
     "metadata": {},
     "output_type": "execute_result"
    }
   ],
   "source": [
    "grouped = df[['occupancy_percentage','neighbourhood']].groupby('neighbourhood')\n",
    "df_location = grouped.mean().reset_index().sort_values(by='occupancy_percentage',ascending=False)\n",
    "df_location"
   ]
  },
  {
   "cell_type": "code",
   "execution_count": 47,
   "metadata": {},
   "outputs": [
    {
     "data": {
      "text/html": [
       "<div>\n",
       "<style scoped>\n",
       "    .dataframe tbody tr th:only-of-type {\n",
       "        vertical-align: middle;\n",
       "    }\n",
       "\n",
       "    .dataframe tbody tr th {\n",
       "        vertical-align: top;\n",
       "    }\n",
       "\n",
       "    .dataframe thead th {\n",
       "        text-align: right;\n",
       "    }\n",
       "</style>\n",
       "<table border=\"1\" class=\"dataframe\">\n",
       "  <thead>\n",
       "    <tr style=\"text-align: right;\">\n",
       "      <th></th>\n",
       "      <th>neighbourhood</th>\n",
       "      <th>occupancy_percentage</th>\n",
       "    </tr>\n",
       "  </thead>\n",
       "  <tbody>\n",
       "    <tr>\n",
       "      <th>1</th>\n",
       "      <td>Arden Heights</td>\n",
       "      <td>36.767123</td>\n",
       "    </tr>\n",
       "    <tr>\n",
       "      <th>139</th>\n",
       "      <td>New Brighton</td>\n",
       "      <td>35.020274</td>\n",
       "    </tr>\n",
       "    <tr>\n",
       "      <th>163</th>\n",
       "      <td>Richmondtown</td>\n",
       "      <td>25.249315</td>\n",
       "    </tr>\n",
       "    <tr>\n",
       "      <th>101</th>\n",
       "      <td>Hunts Point</td>\n",
       "      <td>22.025342</td>\n",
       "    </tr>\n",
       "    <tr>\n",
       "      <th>168</th>\n",
       "      <td>Rosebank</td>\n",
       "      <td>21.797260</td>\n",
       "    </tr>\n",
       "    <tr>\n",
       "      <th>9</th>\n",
       "      <td>Baychester</td>\n",
       "      <td>21.249315</td>\n",
       "    </tr>\n",
       "    <tr>\n",
       "      <th>175</th>\n",
       "      <td>Silver Lake</td>\n",
       "      <td>20.975342</td>\n",
       "    </tr>\n",
       "    <tr>\n",
       "      <th>106</th>\n",
       "      <td>Jamaica Hills</td>\n",
       "      <td>20.043836</td>\n",
       "    </tr>\n",
       "    <tr>\n",
       "      <th>100</th>\n",
       "      <td>Huguenot</td>\n",
       "      <td>19.452055</td>\n",
       "    </tr>\n",
       "    <tr>\n",
       "      <th>196</th>\n",
       "      <td>Two Bridges</td>\n",
       "      <td>19.112562</td>\n",
       "    </tr>\n",
       "  </tbody>\n",
       "</table>\n",
       "</div>"
      ],
      "text/plain": [
       "     neighbourhood  occupancy_percentage\n",
       "1    Arden Heights             36.767123\n",
       "139   New Brighton             35.020274\n",
       "163   Richmondtown             25.249315\n",
       "101    Hunts Point             22.025342\n",
       "168       Rosebank             21.797260\n",
       "9       Baychester             21.249315\n",
       "175    Silver Lake             20.975342\n",
       "106  Jamaica Hills             20.043836\n",
       "100       Huguenot             19.452055\n",
       "196    Two Bridges             19.112562"
      ]
     },
     "execution_count": 47,
     "metadata": {},
     "output_type": "execute_result"
    }
   ],
   "source": [
    "Top_10 = df_location.head(10)\n",
    "Top_10"
   ]
  },
  {
   "cell_type": "markdown",
   "metadata": {},
   "source": [
    "The Top 10 locations that recieve maximum traffic. To visualize the differences better and see the direction of differences, the results are plotted as such."
   ]
  },
  {
   "cell_type": "code",
   "execution_count": 50,
   "metadata": {},
   "outputs": [
    {
     "data": {
      "text/plain": [
       "Text(0, 0.5, 'locations')"
      ]
     },
     "execution_count": 50,
     "metadata": {},
     "output_type": "execute_result"
    },
    {
     "data": {
      "image/png": "[encoded data removed]",
      "text/plain": [
       "<Figure size 720x504 with 1 Axes>"
      ]
     },
     "metadata": {},
     "output_type": "display_data"
    }
   ],
   "source": [
    "plt.figure(figsize=(10,7))\n",
    "plt.style.use('fivethirtyeight')\n",
    "plt.barh(y=Top_10.neighbourhood,width=Top_10.occupancy_percentage,color='#009999')\n",
    "plt.title('Top 10 Busiest Locations in NYC',y=1.03)\n",
    "plt.suptitle('Locations recieving majority of traffic in the NYC region',y=0.905)\n",
    "plt.xlabel('occupancy')\n",
    "plt.xticks([])\n",
    "plt.ylabel('locations')"
   ]
  },
  {
   "cell_type": "markdown",
   "metadata": {},
   "source": [
    "The graph above shows the Top 10 locations with occupancy comparisions."
   ]
  },
  {
   "cell_type": "markdown",
   "metadata": {},
   "source": [
    "An important thing to note here is that, the `occupancy percentage` in the bar plots above arent relative to eachother. They are average percentages of all occupancy percentages for that label. In short for each label occupancy percentages is the summary statistic - mean."
   ]
  },
  {
   "cell_type": "markdown",
   "metadata": {},
   "source": [
    "The final analysis is - Are there any relationships between prices and number of reviews for a given listing?<br>\n",
    "\n",
    "The `price` column gives the price for a listing for the `minimum_nights` i.e. the price mentioned is for the minimum nights the customer has to book the listing for. Hence to even out the scale for the `price` column due to different `minimum_nights` criterion for each listing,the price is divided by minimum nights required to stay, to derive `price_per_day`."
   ]
  },
  {
   "cell_type": "code",
   "execution_count": 51,
   "metadata": {},
   "outputs": [],
   "source": [
    "df['price_per_day'] = df.price / df.minimum_nights"
   ]
  },
  {
   "cell_type": "markdown",
   "metadata": {},
   "source": [
    "Both the concerned columns `price_per_day` and `number_of_reviews` are measured on an `interval/ratio` scale. So as to understand the distribution of these variables, histograms are plotted below."
   ]
  },
  {
   "cell_type": "code",
   "execution_count": 53,
   "metadata": {},
   "outputs": [
    {
     "data": {
      "text/plain": [
       "(0, 400)"
      ]
     },
     "execution_count": 53,
     "metadata": {},
     "output_type": "execute_result"
    },
    {
     "data": {
      "image/png": "[encoded data removed]",
      "text/plain": [
       "<Figure size 1152x576 with 2 Axes>"
      ]
     },
     "metadata": {},
     "output_type": "display_data"
    }
   ],
   "source": [
    "plt.subplots(figsize=(16,8))\n",
    "plt.subplot(1,2,1)\n",
    "sns.distplot(df.price_per_day,kde=True)\n",
    "plt.xlim([0,1000])\n",
    "plt.subplot(1,2,2)\n",
    "sns.distplot(df.number_of_reviews,kde=True)\n",
    "plt.xlim([0,400])"
   ]
  },
  {
   "cell_type": "markdown",
   "metadata": {},
   "source": [
    "Both the plots are heavily right skewed, and the distribution plot (histogram) gives no information as to the relationship between the two. To gain a sense of relationship between the two, a scatter plot is generated below."
   ]
  },
  {
   "cell_type": "code",
   "execution_count": 54,
   "metadata": {},
   "outputs": [
    {
     "data": {
      "text/plain": [
       "<matplotlib.axes._subplots.AxesSubplot at 0x7f134456c610>"
      ]
     },
     "execution_count": 54,
     "metadata": {},
     "output_type": "execute_result"
    },
    {
     "data": {
      "image/png": "[encoded data removed]",
      "text/plain": [
       "<Figure size 720x432 with 1 Axes>"
      ]
     },
     "metadata": {},
     "output_type": "display_data"
    }
   ],
   "source": [
    "plt.figure(figsize=(10,6))\n",
    "sns.scatterplot(x=df.price_per_day,y=df.number_of_reviews)"
   ]
  },
  {
   "cell_type": "markdown",
   "metadata": {},
   "source": [
    "The two plots above, `Histograms` and the `scatter plot`, hardly give any information pertaining to the analysis.<br>\n",
    "Since both columns are on the `interval scale` and show no direct relationship between the two. A proxy to finding relationship would be to bin one of the varibles to `ordinal scale`, hence make it comparable with respect to the other variable. Looking into the price variable for this need,"
   ]
  },
  {
   "cell_type": "code",
   "execution_count": 55,
   "metadata": {},
   "outputs": [
    {
     "data": {
      "text/plain": [
       "count    30149.000000\n",
       "mean        73.055984\n",
       "std        169.476160\n",
       "min          0.000000\n",
       "25%         20.000000\n",
       "50%         45.000000\n",
       "75%         85.000000\n",
       "max       8000.000000\n",
       "Name: price_per_day, dtype: float64"
      ]
     },
     "execution_count": 55,
     "metadata": {},
     "output_type": "execute_result"
    }
   ],
   "source": [
    "df.price_per_day.describe()"
   ]
  },
  {
   "cell_type": "markdown",
   "metadata": {},
   "source": [
    "The `price_per_day` variable has a relatively smaller mean as comapared to the extent the value go up to. A closer look at the distribution for the `price_per_day` variable where the price is below 500 dollars."
   ]
  },
  {
   "cell_type": "code",
   "execution_count": 56,
   "metadata": {},
   "outputs": [
    {
     "data": {
      "text/plain": [
       "<matplotlib.axes._subplots.AxesSubplot at 0x7f134aed6190>"
      ]
     },
     "execution_count": 56,
     "metadata": {},
     "output_type": "execute_result"
    },
    {
     "data": {
      "image/png": "[encoded data removed]",
      "text/plain": [
       "<Figure size 720x576 with 1 Axes>"
      ]
     },
     "metadata": {},
     "output_type": "display_data"
    }
   ],
   "source": [
    "plt.figure(figsize=(10,8))\n",
    "sns.boxplot(df[df.price_per_day < 500].price_per_day)"
   ]
  },
  {
   "cell_type": "markdown",
   "metadata": {},
   "source": [
    "The majority of listings are at a lower price point lesser than 200 dollars. This makes the bining/segmentation of the `price_per_day` variable unequal. Choosing the bins is crucial and has to really reflect that data."
   ]
  },
  {
   "cell_type": "markdown",
   "metadata": {},
   "source": [
    "The `price_per_day` variable is segmented into 5 segments :-\n",
    "\n",
    "    1. Very cheap - 15 dollars or lesser\n",
    "    2. Cheap - 20 to 65 dollars\n",
    "    3. Budget - 65 to 120 dollars\n",
    "    4. Expensive - 120 to 200 dollars\n",
    "    5. Very Expensive - 200 dollars or greater\n",
    "    \n",
    "The price points of 0 dollars and per day price points greater than 1000 dollars,are extreme values in the assumption and segmentation made. These values can skew the findings. Since the purpose is to find a trend/relationship between price points of listings and the number of reviews the listings recieve, The above assumption that these are extremes and do not contribute in deciding the trend majorly seems like a good enough proxy."
   ]
  },
  {
   "cell_type": "code",
   "execution_count": 57,
   "metadata": {},
   "outputs": [],
   "source": [
    "df = df[~((df.price_per_day == 0) | (df.price_per_day > 1000))]"
   ]
  },
  {
   "cell_type": "code",
   "execution_count": 63,
   "metadata": {},
   "outputs": [
    {
     "data": {
      "text/plain": [
       "Very cheap         9348\n",
       "Cheap             10350\n",
       "Budget             6235\n",
       "Expensive          2709\n",
       "Very expensive     1435\n",
       "Name: price_per_day_labels, dtype: int64"
      ]
     },
     "execution_count": 63,
     "metadata": {},
     "output_type": "execute_result"
    }
   ],
   "source": [
    "def label(data):\n",
    "    if data <= 25:\n",
    "        return 'Very cheap'\n",
    "    elif data > 25 and data <= 65:\n",
    "        return 'Cheap'\n",
    "    elif data > 65 and data <= 120:\n",
    "        return 'Budget'\n",
    "    elif data > 120 and data <= 200:\n",
    "        return 'Expensive'\n",
    "    else:\n",
    "        return 'Very expensive'\n",
    "\n",
    "df['price_per_day_labels'] = df.price_per_day.apply(label)\n",
    "df.price_per_day_labels.value_counts(dropna=False).iloc[[1,0,2,3,4]]"
   ]
  },
  {
   "cell_type": "markdown",
   "metadata": {},
   "source": [
    "The columns can now be compared. The labels of the `price_per_day_labels` columns will be compared against each other with respect to the `number_of_reviews` column. The grouping is done on the `price_per_day_labels` and aggregated on `number_of_reviews` via `sum`."
   ]
  },
  {
   "cell_type": "code",
   "execution_count": 81,
   "metadata": {},
   "outputs": [
    {
     "data": {
      "text/html": [
       "<div>\n",
       "<style scoped>\n",
       "    .dataframe tbody tr th:only-of-type {\n",
       "        vertical-align: middle;\n",
       "    }\n",
       "\n",
       "    .dataframe tbody tr th {\n",
       "        vertical-align: top;\n",
       "    }\n",
       "\n",
       "    .dataframe thead th {\n",
       "        text-align: right;\n",
       "    }\n",
       "</style>\n",
       "<table border=\"1\" class=\"dataframe\">\n",
       "  <thead>\n",
       "    <tr style=\"text-align: right;\">\n",
       "      <th></th>\n",
       "      <th>price_per_day_labels</th>\n",
       "      <th>number_of_reviews</th>\n",
       "      <th>occupancy_percentage</th>\n",
       "    </tr>\n",
       "  </thead>\n",
       "  <tbody>\n",
       "    <tr>\n",
       "      <th>0</th>\n",
       "      <td>Budget</td>\n",
       "      <td>256969</td>\n",
       "      <td>11.085010</td>\n",
       "    </tr>\n",
       "    <tr>\n",
       "      <th>1</th>\n",
       "      <td>Cheap</td>\n",
       "      <td>427814</td>\n",
       "      <td>13.167304</td>\n",
       "    </tr>\n",
       "    <tr>\n",
       "      <th>2</th>\n",
       "      <td>Expensive</td>\n",
       "      <td>92211</td>\n",
       "      <td>9.288539</td>\n",
       "    </tr>\n",
       "    <tr>\n",
       "      <th>3</th>\n",
       "      <td>Very cheap</td>\n",
       "      <td>152961</td>\n",
       "      <td>15.756171</td>\n",
       "    </tr>\n",
       "    <tr>\n",
       "      <th>4</th>\n",
       "      <td>Very expensive</td>\n",
       "      <td>32915</td>\n",
       "      <td>6.518616</td>\n",
       "    </tr>\n",
       "  </tbody>\n",
       "</table>\n",
       "</div>"
      ],
      "text/plain": [
       "  price_per_day_labels  number_of_reviews  occupancy_percentage\n",
       "0               Budget             256969             11.085010\n",
       "1                Cheap             427814             13.167304\n",
       "2            Expensive              92211              9.288539\n",
       "3           Very cheap             152961             15.756171\n",
       "4       Very expensive              32915              6.518616"
      ]
     },
     "execution_count": 81,
     "metadata": {},
     "output_type": "execute_result"
    }
   ],
   "source": [
    "grouped = df[['price_per_day_labels','number_of_reviews','occupancy_percentage']].groupby('price_per_day_labels')\n",
    "df_price_range = grouped.agg({\n",
    "    'number_of_reviews':'sum',\n",
    "    'occupancy_percentage':'mean'\n",
    "}).reset_index()\n",
    "df_price_range"
   ]
  },
  {
   "cell_type": "markdown",
   "metadata": {},
   "source": [
    "The differences between the price points in terms of number of reviews are very clear.To make the direction and size of difference clearer a visualization is made below. For visualization purposes, the absolute sums of `number_of_reviews` is converted to percentages."
   ]
  },
  {
   "cell_type": "code",
   "execution_count": 82,
   "metadata": {},
   "outputs": [
    {
     "data": {
      "text/html": [
       "<div>\n",
       "<style scoped>\n",
       "    .dataframe tbody tr th:only-of-type {\n",
       "        vertical-align: middle;\n",
       "    }\n",
       "\n",
       "    .dataframe tbody tr th {\n",
       "        vertical-align: top;\n",
       "    }\n",
       "\n",
       "    .dataframe thead th {\n",
       "        text-align: right;\n",
       "    }\n",
       "</style>\n",
       "<table border=\"1\" class=\"dataframe\">\n",
       "  <thead>\n",
       "    <tr style=\"text-align: right;\">\n",
       "      <th></th>\n",
       "      <th>price_per_day_labels</th>\n",
       "      <th>number_of_reviews</th>\n",
       "      <th>occupancy_percentage</th>\n",
       "      <th>reviews_percentage</th>\n",
       "    </tr>\n",
       "  </thead>\n",
       "  <tbody>\n",
       "    <tr>\n",
       "      <th>3</th>\n",
       "      <td>Very cheap</td>\n",
       "      <td>152961</td>\n",
       "      <td>15.756171</td>\n",
       "      <td>15.885945</td>\n",
       "    </tr>\n",
       "    <tr>\n",
       "      <th>1</th>\n",
       "      <td>Cheap</td>\n",
       "      <td>427814</td>\n",
       "      <td>13.167304</td>\n",
       "      <td>44.431128</td>\n",
       "    </tr>\n",
       "    <tr>\n",
       "      <th>0</th>\n",
       "      <td>Budget</td>\n",
       "      <td>256969</td>\n",
       "      <td>11.085010</td>\n",
       "      <td>26.687819</td>\n",
       "    </tr>\n",
       "    <tr>\n",
       "      <th>2</th>\n",
       "      <td>Expensive</td>\n",
       "      <td>92211</td>\n",
       "      <td>9.288539</td>\n",
       "      <td>9.576682</td>\n",
       "    </tr>\n",
       "    <tr>\n",
       "      <th>4</th>\n",
       "      <td>Very expensive</td>\n",
       "      <td>32915</td>\n",
       "      <td>6.518616</td>\n",
       "      <td>3.418426</td>\n",
       "    </tr>\n",
       "  </tbody>\n",
       "</table>\n",
       "</div>"
      ],
      "text/plain": [
       "  price_per_day_labels  number_of_reviews  occupancy_percentage  \\\n",
       "3           Very cheap             152961             15.756171   \n",
       "1                Cheap             427814             13.167304   \n",
       "0               Budget             256969             11.085010   \n",
       "2            Expensive              92211              9.288539   \n",
       "4       Very expensive              32915              6.518616   \n",
       "\n",
       "   reviews_percentage  \n",
       "3           15.885945  \n",
       "1           44.431128  \n",
       "0           26.687819  \n",
       "2            9.576682  \n",
       "4            3.418426  "
      ]
     },
     "execution_count": 82,
     "metadata": {},
     "output_type": "execute_result"
    }
   ],
   "source": [
    "total_reviews = sum(df_price_range.number_of_reviews)\n",
    "df_price_range['reviews_percentage'] = df_price_range.number_of_reviews / total_reviews * 100\n",
    "df_price_range = df_price_range.iloc[[3,1,0,2,4]]\n",
    "df_price_range"
   ]
  },
  {
   "cell_type": "code",
   "execution_count": 83,
   "metadata": {},
   "outputs": [
    {
     "data": {
      "text/plain": [
       "Text(0.5, 0, 'Price points')"
      ]
     },
     "execution_count": 83,
     "metadata": {},
     "output_type": "execute_result"
    },
    {
     "data": {
      "image/png": "[encoded data removed]",
      "text/plain": [
       "<Figure size 864x576 with 1 Axes>"
      ]
     },
     "metadata": {},
     "output_type": "display_data"
    }
   ],
   "source": [
    "plt.figure(figsize=(12,8))\n",
    "plt.style.use('fivethirtyeight')\n",
    "plt.bar(x=df_price_range.price_per_day_labels, height=df_price_range.reviews_percentage,color='#009999')\n",
    "plt.title('Percentage of reviews vs per day Price',y=1.02)\n",
    "plt.suptitle('Percentage of reviews recieved by listings of different per day price points',y=0.89)\n",
    "plt.yticks([])\n",
    "plt.ylabel('Percentage')\n",
    "plt.xlabel('Price points')"
   ]
  },
  {
   "cell_type": "markdown",
   "metadata": {},
   "source": [
    "From the plot above the conclusion can be drawn that listings that quote a per-day-price point between 20 to 120 dollars get maximum number of reviews. These properties are considered to be fair in terms of price.<br>\n",
    "\n",
    "Taking it a step further, analyzing occupancy rates for each price point label,"
   ]
  },
  {
   "cell_type": "code",
   "execution_count": 80,
   "metadata": {},
   "outputs": [
    {
     "data": {
      "text/plain": [
       "Text(0.5, 0, 'Price points')"
      ]
     },
     "execution_count": 80,
     "metadata": {},
     "output_type": "execute_result"
    },
    {
     "data": {
      "image/png": "[encoded data removed]",
      "text/plain": [
       "<Figure size 864x576 with 1 Axes>"
      ]
     },
     "metadata": {},
     "output_type": "display_data"
    }
   ],
   "source": [
    "plt.figure(figsize=(12,8))\n",
    "plt.style.use('fivethirtyeight')\n",
    "plt.bar(x=df_price_range.price_per_day_labels, height=df_price_range.occupancy_percentage,color='#009999')\n",
    "plt.title('Occupancy rates vs per day Price',y=1.02)\n",
    "plt.suptitle('Percentage of occupancy distributed by per day price points',y=0.89)\n",
    "plt.yticks([])\n",
    "plt.ylabel('Percentage')\n",
    "plt.xlabel('Price points')"
   ]
  },
  {
   "cell_type": "markdown",
   "metadata": {},
   "source": [
    "The conclusion from the two plots above:- \n",
    "* The Cheap and budget price points i.e. 20 to 120 dollars recieve more reviews than the rest.\n",
    "* The same is not true for occupancy rates. The very cheap price points i.e 15 dollars or lesser have more occupancy rates through one period of business."
   ]
  },
  {
   "cell_type": "code",
   "execution_count": 88,
   "metadata": {},
   "outputs": [
    {
     "data": {
      "text/plain": [
       "1      Arden Heights\n",
       "139     New Brighton\n",
       "163     Richmondtown\n",
       "101      Hunts Point\n",
       "168         Rosebank\n",
       "9         Baychester\n",
       "175      Silver Lake\n",
       "106    Jamaica Hills\n",
       "100         Huguenot\n",
       "196      Two Bridges\n",
       "Name: neighbourhood, dtype: object"
      ]
     },
     "execution_count": 88,
     "metadata": {},
     "output_type": "execute_result"
    }
   ],
   "source": [
    "Top_10.neighbourhood"
   ]
  },
  {
   "cell_type": "markdown",
   "metadata": {},
   "source": [
    "In conclusion, the following observations were made from the analysis:- \n",
    "\n",
    "    1. The Top 50 hosts, that have high occupancy percentages(busiest)\n",
    "    * Zoey             * Daniel             * Jordi               * Amanda\n",
    "    * Sara             * Harry              * Dipti               * Poma\n",
    "    * Moncef           * Danielle           * A-B                 * Martin & Steve\n",
    "    * Steven           * Zach               * Lee                 * Vangelis\n",
    "    * Viberlyn         * Eleni              * Emma                * Emily Wes\n",
    "    * Sara             * Safia              * Nour                * Sara\n",
    "    * Jean-Yves        * Nick               * Gianni              * Jk\n",
    "    * Jean             * Brie               * Vitaly And Lena     * Josie\n",
    "    * LuLu             * Curtiss            * Florence            * Rosa\n",
    "    * Tokunbo          * Yu                 * Pete                * Michelle\n",
    "    * Robert           * William            * Jack                * Amit\n",
    "    * Joshua           * Stephanie          * Nicolas             * Kim\n",
    "    * Vlad             * Joanna\n",
    "    The properties of these Top 50 hosts are mainly situated in - Manhattan and Brooklyn.\n",
    "    \n",
    "    2. The Top location groups that recieve the maximum traffic are \n",
    "    * Manhattan \n",
    "    * Brooklyn\n",
    "    As concluded from the Top 50 busiest hosts as well as the entire population. \n",
    "    Accessing more granular information the Top 10 busiest neighbourhoods are\n",
    "    * Arden Heights      * New Brighton       * Richmondtown\n",
    "    * Hunts Point        * Rosebank           * Baychester\n",
    "    * Silver Lake        * Jamaica Hills      * Huguenot\n",
    "    * Two Bridges\n",
    "    \n",
    "    3. Listings priced about 20 dollars to 120 dollars on per day basis, recieve more number \n",
    "    of reviews than other price points. Whereas listings priced 15 dollars or less are busier than the rest.\n",
    "\n"
   ]
  }
 ],
 "metadata": {
  "kernelspec": {
   "display_name": "Python 3",
   "language": "python",
   "name": "python3"
  },
  "language_info": {
   "codemirror_mode": {
    "name": "ipython",
    "version": 3
   },
   "file_extension": ".py",
   "mimetype": "text/x-python",
   "name": "python",
   "nbconvert_exporter": "python",
   "pygments_lexer": "ipython3",
   "version": "3.7.7"
  }
 },
 "nbformat": 4,
 "nbformat_minor": 4
}
